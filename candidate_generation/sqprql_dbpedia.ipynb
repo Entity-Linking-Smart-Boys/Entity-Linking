{
 "cells": [
  {
   "cell_type": "code",
   "execution_count": 1,
   "metadata": {},
   "outputs": [],
   "source": [
    "from rdflib import Graph\n",
    "from SPARQLWrapper import SPARQLWrapper, JSON, N3\n",
    "from pprint import pprint"
   ]
  },
  {
   "cell_type": "markdown",
   "metadata": {},
   "source": [
    "Create the Query and send it via SPARQLWrapper"
   ]
  },
  {
   "cell_type": "code",
   "execution_count": 13,
   "metadata": {
    "collapsed": false,
    "jupyter": {
     "outputs_hidden": false
    },
    "pycharm": {
     "name": "#%%\n"
    }
   },
   "outputs": [
    {
     "name": "stdout",
     "output_type": "stream",
     "text": [
      "{'head': {'link': [], 'vars': ['object']},\n",
      " 'results': {'bindings': [{'object': {'type': 'literal',\n",
      "                                      'value': 'Gdansk',\n",
      "                                      'xml:lang': 'en'}}],\n",
      "             'distinct': False,\n",
      "             'ordered': True}}\n"
     ]
    }
   ],
   "source": [
    "import ssl\n",
    "ssl._create_default_https_context = ssl._create_unverified_context\n",
    "\n",
    "sparql = SPARQLWrapper('https://dbpedia.org/sparql') # initialize SPARQL Wrapper\n",
    "\n",
    "# # Example: look for an object \"Barack_Obama\" and get the property \"label\"\n",
    "# sparql.setQuery('''\n",
    "#     SELECT ?object\n",
    "#     WHERE { dbr:Barack_Obama dbo:label ?object .}\n",
    "# ''')\n",
    "\n",
    "\n",
    "sparql.setQuery('''\n",
    "    SELECT ?object\n",
    "    # WHERE {  ?GPE rdfs:label      \"Gdansk\"@en }\n",
    "    WHERE { dbr:Gdansk rdfs:label ?object .}\n",
    "''')\n",
    "sparql.setReturnFormat(JSON)\n",
    "\n",
    "sparql.verify = False\n",
    "qres = sparql.query().convert()\n",
    "pprint(qres)"
   ]
  },
  {
   "cell_type": "markdown",
   "metadata": {},
   "source": [
    "Print the results:"
   ]
  },
  {
   "cell_type": "code",
   "execution_count": 14,
   "metadata": {},
   "outputs": [
    {
     "name": "stdout",
     "output_type": "stream",
     "text": [
      "Lang: en\tValue: Gdansk\n"
     ]
    }
   ],
   "source": [
    "for result in qres['results']['bindings']:\n",
    "    # print(result['object'])\n",
    "    \n",
    "    lang, value = result['object']['xml:lang'], result['object']['value']\n",
    "    print(f'Lang: {lang}\\tValue: {value}')\n",
    "    # if lang == 'en':\n",
    "    #     print(value)"
   ]
  },
  {
   "cell_type": "markdown",
   "metadata": {},
   "source": [
    "Get the parent and child nodes. This allows to create a graph of objects (CONSTRUCT). Parent - Artificial Intelligence, Child - for example Markov Models."
   ]
  },
  {
   "cell_type": "code",
   "execution_count": 16,
   "metadata": {},
   "outputs": [
    {
     "name": "stdout",
     "output_type": "stream",
     "text": [
      "@prefix dbc: <http://dbpedia.org/resource/Category:> .\n",
      "@prefix skos: <http://www.w3.org/2004/02/skos/core#> .\n",
      "\n",
      "dbc:Machine_learning skos:broader dbc:Artificial_intelligence,\n",
      "        dbc:Learning ;\n",
      "    skos:narrower dbc:Applied_machine_learning,\n",
      "        dbc:Artificial_intelligence_conferences,\n",
      "        dbc:Artificial_neural_networks,\n",
      "        dbc:Bayesian_networks,\n",
      "        dbc:Blockmodeling,\n",
      "        dbc:Classification_algorithms,\n",
      "        dbc:Cluster_analysis,\n",
      "        dbc:Computational_learning_theory,\n",
      "        dbc:Data_mining_and_machine_learning_software,\n",
      "        dbc:Datasets_in_machine_learning,\n",
      "        dbc:Deep_learning,\n",
      "        dbc:Dimension_reduction,\n",
      "        dbc:Ensemble_learning,\n",
      "        dbc:Evolutionary_algorithms,\n",
      "        dbc:Genetic_programming,\n",
      "        dbc:Inductive_logic_programming,\n",
      "        dbc:Kernel_methods_for_machine_learning,\n",
      "        dbc:Latent_variable_models,\n",
      "        dbc:Learning_in_computer_vision,\n",
      "        dbc:Log-linear_models,\n",
      "        dbc:Loss_functions,\n",
      "        dbc:Machine_learning_algorithms,\n",
      "        dbc:Machine_learning_researchers,\n",
      "        dbc:Machine_learning_task,\n",
      "        dbc:Markov_models,\n",
      "        dbc:Natural_language_processing_researchers,\n",
      "        dbc:Ontology_learning_\\(computer_science\\),\n",
      "        dbc:Reinforcement_learning,\n",
      "        dbc:Semisupervised_learning,\n",
      "        dbc:Signal_processing_conferences,\n",
      "        dbc:Statistical_natural_language_processing,\n",
      "        dbc:Structured_prediction,\n",
      "        dbc:Supervised_learning,\n",
      "        dbc:Support_vector_machines,\n",
      "        dbc:Unsupervised_learning .\n",
      "\n",
      "\n"
     ]
    }
   ],
   "source": [
    "sparql = SPARQLWrapper(\"http://dbpedia.org/sparql\")\n",
    "sparql.setQuery('''\n",
    "CONSTRUCT { dbc:Machine_learning skos:broader ?parent .\n",
    "            dbc:Machine_learning skos:narrower ?child .} \n",
    "WHERE {\n",
    "    { dbc:Machine_learning skos:broader ?parent . }\n",
    "UNION\n",
    "    { ?child skos:broader dbc:Machine_learning . }\n",
    "}''')\n",
    "\n",
    "sparql.setReturnFormat(N3)  # N triples\n",
    "qres = sparql.query().convert()\n",
    "\n",
    "g = Graph()\n",
    "g.parse(data=qres, format='n3')\n",
    "print(g.serialize(format='ttl'))"
   ]
  },
  {
   "cell_type": "markdown",
   "metadata": {},
   "source": [
    "Iteration through list of entities. In each iteration we get: label text, comment text, thumbnail image."
   ]
  },
  {
   "cell_type": "code",
   "execution_count": 36,
   "metadata": {},
   "outputs": [
    {
     "name": "stdout",
     "output_type": "stream",
     "text": [
      "###########################################\n",
      "Air horn\n",
      "image_url: http://commons.wikimedia.org/wiki/Special:FilePath/Supertanker_Steam_whistle,_Merseyside_Maritime_Museum.jpg?width=300\n"
     ]
    },
    {
     "data": {
      "text/html": [
       "<img src=\"http://commons.wikimedia.org/wiki/Special:FilePath/Supertanker_Steam_whistle,_Merseyside_Maritime_Museum.jpg?width=300\" width=\"100\" class=\"unconfined\"/>"
      ],
      "text/plain": [
       "<IPython.core.display.Image object>"
      ]
     },
     "metadata": {},
     "output_type": "display_data"
    },
    {
     "name": "stdout",
     "output_type": "stream",
     "text": [
      "An air horn is a pneumatic device designed to create an extremely loud noise for signaling purposes. It usually consists of a source which produces compressed air, which passes into a horn through a reed or diaphragm. The stream of air causes the reed or diaphragm to vibrate, creating sound waves, then the horn amplifies the sound making it louder. Air horns are widely employed as vehicle horns, installed on large buses, semi-trailer trucks, fire trucks, trains, and some ambulances as a warning device, and on ships as a signaling device....\n",
      "###########################################\n",
      "Kazoo\n",
      "image_url: http://commons.wikimedia.org/wiki/Special:FilePath/Kazoo.jpg?width=300\n"
     ]
    },
    {
     "data": {
      "text/html": [
       "<img src=\"http://commons.wikimedia.org/wiki/Special:FilePath/Kazoo.jpg?width=300\" width=\"100\" class=\"unconfined\"/>"
      ],
      "text/plain": [
       "<IPython.core.display.Image object>"
      ]
     },
     "metadata": {},
     "output_type": "display_data"
    },
    {
     "name": "stdout",
     "output_type": "stream",
     "text": [
      "The kazoo is an American musical instrument that adds a \"buzzing\" timbral quality to a player's voice when the player vocalizes into it. It is a type of mirliton (which itself is a membranophone), one of a class of instruments which modifies its player's voice by way of a vibrating membrane of goldbeater's skin or material with similar characteristics. Similar hide-covered vibrating and voice-changing instruments have been used in Africa for hundreds of years....\n",
      "###########################################\n",
      "Mandolin\n",
      "image_url: http://commons.wikimedia.org/wiki/Special:FilePath/Paris_Swing_Samois_Mandolin_MS-130-SN.jpg?width=300\n"
     ]
    },
    {
     "data": {
      "text/html": [
       "<img src=\"http://commons.wikimedia.org/wiki/Special:FilePath/Paris_Swing_Samois_Mandolin_MS-130-SN.jpg?width=300\" width=\"100\" class=\"unconfined\"/>"
      ],
      "text/plain": [
       "<IPython.core.display.Image object>"
      ]
     },
     "metadata": {},
     "output_type": "display_data"
    },
    {
     "name": "stdout",
     "output_type": "stream",
     "text": [
      "A mandolin (Italian: mandolino pronounced [mandoˈliːno]; literally \"small mandola\") is a stringed musical instrument in the lute family and is generally plucked with a pick. It most commonly has four courses of doubled metal strings tuned in unison, thus giving a total of 8 strings, although five (10 strings) and six (12 strings) course versions also exist. The courses are typically tuned in an interval of perfect fifths, with the same tuning as a violin (G3, D4, A4, E5). Also, like the violin, it is the soprano member of a family that includes the mandola, octave mandolin, mandocello and mandobass....\n",
      "###########################################\n",
      "Clavichord\n",
      "image_url: http://commons.wikimedia.org/wiki/Special:FilePath/Hillclavichord.jpg?width=300\n"
     ]
    },
    {
     "data": {
      "text/html": [
       "<img src=\"http://commons.wikimedia.org/wiki/Special:FilePath/Hillclavichord.jpg?width=300\" width=\"100\" class=\"unconfined\"/>"
      ],
      "text/plain": [
       "<IPython.core.display.Image object>"
      ]
     },
     "metadata": {},
     "output_type": "display_data"
    },
    {
     "name": "stdout",
     "output_type": "stream",
     "text": [
      "The clavichord is a stringed rectangular keyboard instrument that was used largely in the Late Middle Ages, through the Renaissance, Baroque and Classical eras.Historically, it was mostly used as a practice instrument and as an aid to composition, not being loud enough for larger performances. The clavichord produces sound by striking brass or iron strings with small metal blades called tangents. Vibrations are transmitted through the bridge(s) to the soundboard....\n",
      "###########################################\n",
      "Kaval\n",
      "image_url: http://commons.wikimedia.org/wiki/Special:FilePath/Bulgarian_kaval_in_key_of_D,_African_blackwood.jpg?width=300\n"
     ]
    },
    {
     "data": {
      "text/html": [
       "<img src=\"http://commons.wikimedia.org/wiki/Special:FilePath/Bulgarian_kaval_in_key_of_D,_African_blackwood.jpg?width=300\" width=\"100\" class=\"unconfined\"/>"
      ],
      "text/plain": [
       "<IPython.core.display.Image object>"
      ]
     },
     "metadata": {},
     "output_type": "display_data"
    },
    {
     "name": "stdout",
     "output_type": "stream",
     "text": [
      "The kaval is a chromatic end-blown flute traditionally played throughout the Balkans (in Albania, Romania, Bulgaria, Southern Serbia, Kosovo, North Macedonia, Northern Greece, and elsewhere) and Anatolia (including Turkey and Armenia). The kaval is primarily associated with mountain shepherds....\n",
      "###########################################\n",
      "Electronic keyboard\n",
      "image_url: http://commons.wikimedia.org/wiki/Special:FilePath/YamahaKeyboard-2.jpg?width=300\n"
     ]
    },
    {
     "data": {
      "text/html": [
       "<img src=\"http://commons.wikimedia.org/wiki/Special:FilePath/YamahaKeyboard-2.jpg?width=300\" width=\"100\" class=\"unconfined\"/>"
      ],
      "text/plain": [
       "<IPython.core.display.Image object>"
      ]
     },
     "metadata": {},
     "output_type": "display_data"
    },
    {
     "name": "stdout",
     "output_type": "stream",
     "text": [
      "An electronic keyboard, portable keyboard, or digital keyboard is an electronic musical instrument, an electronic derivative of keyboard instruments. Electronic keyboards include synthesizers, digital pianos, stage pianos, electronic organs and digital audio workstations. In technical terms, an electronic keyboard is a synthesizer with a low-wattage power amplifier and small loudspeakers....\n",
      "###########################################\n",
      "Choghur\n",
      "image_url: http://commons.wikimedia.org/wiki/Special:FilePath/Çoğur.jpg?width=300\n"
     ]
    },
    {
     "data": {
      "text/html": [
       "<img src=\"http://commons.wikimedia.org/wiki/Special:FilePath/Çoğur.jpg?width=300\" width=\"100\" class=\"unconfined\"/>"
      ],
      "text/plain": [
       "<IPython.core.display.Image object>"
      ]
     },
     "metadata": {},
     "output_type": "display_data"
    },
    {
     "name": "stdout",
     "output_type": "stream",
     "text": [
      "The choghur (Azerbaijani: Çoğur; Georgian: ჩონგური) is a plucked string musical instrument common in Azerbaijan and Georgia. It has 4 nylon strings. The choghur dates back to the 12th to 16th centuries, the period between the gopuz and the Bağlama. In the Caucasus, Iran and Anatolia, and in Sufi traditions, darvishes and ashugs used an instrument called the \"chaghyr\" /\"chagur\"/ \"chugur\" / \"choghur\" / \"chungur\". Presumably, the name \"choghur\" means \"the musical instrument used to appeal to God and truth\". [In Azerbaijani the word \"chaghir\" means \"to call\", \"to appeal\"] It may be assumed that the name of the instrument originates from the expression \"chal-chaghyr\" (festivity or celebration), which was later changed to \"choghur\". Various historical sources indicate that the choghur was used t...\n",
      "###########################################\n",
      "Zill\n",
      "image_url: http://commons.wikimedia.org/wiki/Special:FilePath/Finger_cymbals.jpg?width=300\n"
     ]
    },
    {
     "data": {
      "text/html": [
       "<img src=\"http://commons.wikimedia.org/wiki/Special:FilePath/Finger_cymbals.jpg?width=300\" width=\"100\" class=\"unconfined\"/>"
      ],
      "text/plain": [
       "<IPython.core.display.Image object>"
      ]
     },
     "metadata": {},
     "output_type": "display_data"
    },
    {
     "name": "stdout",
     "output_type": "stream",
     "text": [
      "Zills or zils (from Turkish zil 'cymbals'), also called finger cymbals, are small metallic cymbals used in belly dancing and similar performances. They are called sāgāt (‏صاجات‎) in Egypt. They are similar to Tibetan tingsha bells. In Western music, several pairs can be set in a frame to make a tambourine. Names in other languages include nuqaisāt in Arabic and used among Berbers, Zang-e sarangoshti (سنج انگشتی) in Persian, çeng in Turkish, p'eng chung in Chinese....\n"
     ]
    }
   ],
   "source": [
    "from IPython.display import display, Image\n",
    "\n",
    "sparql = SPARQLWrapper('https://dbpedia.org/sparql')\n",
    "\n",
    "instruments = ['Air_horn', 'Kazoo', 'Mandolin', 'Clavichord', 'Kaval', 'Electronic_keyboard', 'Choghur', 'Zill']\n",
    "\n",
    "for instrument in instruments:\n",
    "    print('###########################################')\n",
    "    sparql.setQuery(f'''\n",
    "    SELECT ?name ?comment ?image\n",
    "    WHERE {{ dbr:{instrument} rdfs:label ?name.\n",
    "             dbr:{instrument} rdfs:comment ?comment.\n",
    "             dbr:{instrument} dbo:thumbnail ?image.\n",
    "    \n",
    "        FILTER (lang(?name) = 'en')\n",
    "        FILTER (lang(?comment) = 'en')\n",
    "    }}''')\n",
    "\n",
    "    sparql.setReturnFormat(JSON)\n",
    "    qres = sparql.query().convert()\n",
    "    \n",
    "    result = qres['results']['bindings'][0]\n",
    "    name, comment, image_url = result['name']['value'], result['comment']['value'], result['image']['value']\n",
    "\n",
    "    print(name)\n",
    "\n",
    "    # Attempt to open the image with error handling\n",
    "    try:\n",
    "        print(\"image_url:\", (image_url))\n",
    "        display(Image(url=image_url, width=100, unconfined=True))\n",
    "    except Exception as e:\n",
    "        print(f'Error: {e}')\n",
    "    \n",
    "    print(f'{comment}...')\n"
   ]
  },
  {
   "cell_type": "code",
   "execution_count": null,
   "metadata": {},
   "outputs": [],
   "source": []
  }
 ],
 "metadata": {
  "kernelspec": {
   "display_name": "Python 3 (ipykernel)",
   "language": "python",
   "name": "python3"
  },
  "language_info": {
   "codemirror_mode": {
    "name": "ipython",
    "version": 3
   },
   "file_extension": ".py",
   "mimetype": "text/x-python",
   "name": "python",
   "nbconvert_exporter": "python",
   "pygments_lexer": "ipython3",
   "version": "3.11.3"
  }
 },
 "nbformat": 4,
 "nbformat_minor": 4
}