{
 "cells": [
  {
   "cell_type": "code",
   "execution_count": 4,
   "metadata": {
    "pycharm": {
     "name": "#%%\n"
    }
   },
   "outputs": [
    {
     "name": "stdout",
     "output_type": "stream",
     "text": [
      "[('Nikola Tesla', 0, 12, 'PERSON'), ('Serbian', 14, 21, 'NORP'), ('Тесла', 39, 44, 'PERSON'), ('Serbian', 52, 59, 'NORP')]\n",
      "(Nikola Tesla, Serbian, Тесла, Serbian)\n"
     ]
    },
    {
     "data": {
      "text/html": [
       "<span class=\"tex2jax_ignore\"><div class=\"entities\" style=\"line-height: 2.5; direction: ltr\">\n",
       "<mark class=\"entity\" style=\"background: #aa9cfc; padding: 0.45em 0.6em; margin: 0 0.25em; line-height: 1; border-radius: 0.35em;\">\n",
       "    Nikola Tesla\n",
       "    <span style=\"font-size: 0.8em; font-weight: bold; line-height: 1; border-radius: 0.35em; vertical-align: middle; margin-left: 0.5rem\">PERSON</span>\n",
       "</mark>\n",
       " (\n",
       "<mark class=\"entity\" style=\"background: #c887fb; padding: 0.45em 0.6em; margin: 0 0.25em; line-height: 1; border-radius: 0.35em;\">\n",
       "    Serbian\n",
       "    <span style=\"font-size: 0.8em; font-weight: bold; line-height: 1; border-radius: 0.35em; vertical-align: middle; margin-left: 0.5rem\">NORP</span>\n",
       "</mark>\n",
       " Cyrillic: Никола \n",
       "<mark class=\"entity\" style=\"background: #aa9cfc; padding: 0.45em 0.6em; margin: 0 0.25em; line-height: 1; border-radius: 0.35em;\">\n",
       "    Тесла\n",
       "    <span style=\"font-size: 0.8em; font-weight: bold; line-height: 1; border-radius: 0.35em; vertical-align: middle; margin-left: 0.5rem\">PERSON</span>\n",
       "</mark>\n",
       ") was a \n",
       "<mark class=\"entity\" style=\"background: #c887fb; padding: 0.45em 0.6em; margin: 0 0.25em; line-height: 1; border-radius: 0.35em;\">\n",
       "    Serbian\n",
       "    <span style=\"font-size: 0.8em; font-weight: bold; line-height: 1; border-radius: 0.35em; vertical-align: middle; margin-left: 0.5rem\">NORP</span>\n",
       "</mark>\n",
       "-American inventor, electrical engineer, mechanical engineer, and futurist best known for his contributions to the design of the modern alternating current (AC) electricity supply system.</div></span>"
      ],
      "text/plain": [
       "<IPython.core.display.HTML object>"
      ]
     },
     "metadata": {},
     "output_type": "display_data"
    }
   ],
   "source": [
    "# imports and load spacy english language package\n",
    "import spacy\n",
    "from spacy import displacy\n",
    "from spacy import tokenizer\n",
    "nlp = spacy.load('en_core_web_lg')\n",
    "\n",
    "# Load the text and process it\n",
    "# I copied the text from python wiki\n",
    "text =(\"Nikola Tesla (Serbian Cyrillic: Никола Тесла) was a Serbian-American inventor, electrical engineer, mechanical engineer, and futurist best known for his contributions to the design of the modern alternating current (AC) electricity supply system.\")\n",
    "\n",
    "doc = nlp(text)\n",
    "\n",
    "sentences = list(doc.sents)\n",
    "# print(sentences)\n",
    "# tokenization\n",
    "# for token in doc:\n",
    "#     print(token.text)\n",
    "# print entities\n",
    "ents = [(e.text, e.start_char, e.end_char, e.label_) for e in doc.ents]\n",
    "print(ents)\n",
    "# displacy allows to see the text in a user-friendly form with tagged entities\n",
    "print(doc.ents)\n",
    "displacy.render(doc, style='ent', jupyter=True)"
   ]
  },
  {
   "cell_type": "code",
   "execution_count": 6,
   "metadata": {
    "collapsed": false,
    "jupyter": {
     "outputs_hidden": false
    },
    "pycharm": {
     "name": "#%%\n"
    }
   },
   "outputs": [
    {
     "data": {
      "text/plain": [
       "('CARDINAL',\n",
       " 'DATE',\n",
       " 'EVENT',\n",
       " 'FAC',\n",
       " 'GPE',\n",
       " 'LANGUAGE',\n",
       " 'LAW',\n",
       " 'LOC',\n",
       " 'MONEY',\n",
       " 'NORP',\n",
       " 'ORDINAL',\n",
       " 'ORG',\n",
       " 'PERCENT',\n",
       " 'PERSON',\n",
       " 'PRODUCT',\n",
       " 'QUANTITY',\n",
       " 'TIME',\n",
       " 'WORK_OF_ART')"
      ]
     },
     "execution_count": 6,
     "metadata": {},
     "output_type": "execute_result"
    }
   ],
   "source": [
    "nlp.get_pipe(\"ner\").labels"
   ]
  },
  {
   "cell_type": "code",
   "execution_count": 7,
   "metadata": {
    "collapsed": false,
    "jupyter": {
     "outputs_hidden": false
    },
    "pycharm": {
     "name": "#%%\n"
    }
   },
   "outputs": [],
   "source": [
    "# SPACY entity types dictionary: the entity type, and it's description\n",
    "spacy_entity_types_dict = {\n",
    "    \"PERSON\": \"People, including fictional.\",\n",
    "    \"NORP\": \"Nationalities or religious or political groups.\",\n",
    "    \"FAC\": \"Buildings, airports, highways, bridges, etc.\",\n",
    "    \"ORG\": \"Companies, agencies, institutions, etc.\",\n",
    "    \"GPE\": \"Countries, cities, states.\",\n",
    "    \"LOC\": \"Non-GPE locations, mountain ranges, bodies of water.\",\n",
    "    \"PRODUCT\": \"Objects, vehicles, foods, etc. (Not services.)\",\n",
    "    \"EVENT\": \"Named hurricanes, battles, wars, sports events, etc.\",\n",
    "    \"WORK_OF_ART\": \"Titles of books, songs, etc.\",\n",
    "    \"LAW\": \"Named documents made into laws.\",\n",
    "    \"LANGUAGE\": \"Any named language.\",\n",
    "    \"DATE\": \"Absolute or relative dates or periods.\",\n",
    "    \"TIME\": \"Times smaller than a day.\",\n",
    "    \"PERCENT\": \"Percentage, including '%'.\",\n",
    "    \"MONEY\": \"Monetary values, including unit.\",\n",
    "    \"QUANTITY\": \"Measurements, as of weight or distance.\",\n",
    "    \"ORDINAL\": \"'first', 'second', etc.\",\n",
    "    \"CARDINAL\": \"Numerals that do not fall under another type.\"\n",
    "}\n",
    "\n"
   ]
  },
  {
   "cell_type": "code",
   "execution_count": 8,
   "metadata": {
    "collapsed": false,
    "jupyter": {
     "outputs_hidden": false
    },
    "pycharm": {
     "name": "#%%\n"
    }
   },
   "outputs": [
    {
     "data": {
      "text/plain": [
       "['CARDINAL',\n",
       " 'DATE',\n",
       " 'EVENT',\n",
       " 'FAC',\n",
       " 'GPE',\n",
       " 'LANGUAGE',\n",
       " 'LAW',\n",
       " 'LOC',\n",
       " 'MONEY',\n",
       " 'NORP',\n",
       " 'ORDINAL',\n",
       " 'ORG',\n",
       " 'PERCENT',\n",
       " 'PERSON',\n",
       " 'PRODUCT',\n",
       " 'QUANTITY',\n",
       " 'TIME',\n",
       " 'WORK_OF_ART']"
      ]
     },
     "execution_count": 8,
     "metadata": {},
     "output_type": "execute_result"
    }
   ],
   "source": [
    "# Entity types: agent, timeperiod, place. Stored as (entity_type, classification)\n",
    "dbpedia_ontology_classes_3 = {\n",
    "    \"PERSON\": \"Agent\",\n",
    "    \"NORP\": \"Agent\",\n",
    "    \"FAC\": \"Place\",\n",
    "    \"ORG\": \"Agent\",\n",
    "    \"GPE\": \"Place\",\n",
    "    \"LOC\": \"Place\",\n",
    "    \"PRODUCT\": \"Agent\",\n",
    "    \"EVENT\": \"Agent\",\n",
    "    \"WORK_OF_ART\": \"Agent\",\n",
    "    \"LAW\": \"Agent\",\n",
    "    \"LANGUAGE\": \"Agent\",\n",
    "    \"DATE\": \"Timeperiod\",\n",
    "    \"TIME\": \"Timeperiod\",\n",
    "    \"PERCENT\": \"Agent\",\n",
    "    \"MONEY\": \"Agent\",\n",
    "    \"QUANTITY\": \"Agent\",\n",
    "    \"ORDINAL\": \"Agent\",\n",
    "    \"CARDINAL\": \"Agent\"\n",
    "}\n",
    "\n",
    "\n",
    "# agent, timeperiod, place, work, personFunction\n",
    "\n",
    "# agent, timeperiod, place, work, personFunction, Species, Event\n",
    "\n",
    "\n",
    "\n",
    "\n",
    "\n"
   ]
  },
  {
   "cell_type": "code",
   "execution_count": 2,
   "metadata": {
    "collapsed": false,
    "jupyter": {
     "outputs_hidden": false
    },
    "pycharm": {
     "name": "#%%\n"
    }
   },
   "outputs": [
    {
     "name": "stdout",
     "output_type": "stream",
     "text": [
      "Entities [('USA', 'DBPEDIA_ENT', 'http://dbpedia.org/resource/United_States'), ('Boris Johnson', 'DBPEDIA_ENT', 'http://dbpedia.org/resource/Boris_Johnson'), ('coronavirus', 'DBPEDIA_ENT', 'http://dbpedia.org/resource/Coronavirus')]\n",
      "{'@URI': 'http://dbpedia.org/resource/United_States', '@support': '553243', '@types': 'Wikidata:Q6256,Schema:Place,Schema:Country,DBpedia:PopulatedPlace,DBpedia:Place,DBpedia:Location,DBpedia:Country', '@surfaceForm': 'USA', '@offset': '17', '@similarityScore': '0.9965798615743495', '@percentageOfSecondRank': '0.0023641208721890935'}\n"
     ]
    }
   ],
   "source": [
    "import spacy\n",
    "import spacy_dbpedia_spotlight\n",
    "# load your model as usual\n",
    "nlp = spacy.load('en_core_web_lg')\n",
    "# add the pipeline stage\n",
    "nlp.add_pipe('dbpedia_spotlight')\n",
    "# get the document\n",
    "doc = nlp('The president of USA is calling Boris Johnson to decide what to do about coronavirus')\n",
    "# see the entities\n",
    "print('Entities', [(ent.text, ent.label_, ent.kb_id_) for ent in doc.ents])\n",
    "# inspect the raw data from DBpedia spotlight\n",
    "print(doc.ents[0]._.dbpedia_raw_result)"
   ]
  },
  {
   "cell_type": "code",
   "execution_count": null,
   "metadata": {},
   "outputs": [],
   "source": [
    "# Thing, Agent, Place, Work\n",
    "first_level_mapping = {\n",
    "    \"PERSON\": \"Agent\",\n",
    "    \"NORP\": \"Agent\",\n",
    "    \"FAC\": \"Place\",\n",
    "    \"ORG\": \"Work\",\n",
    "    \"GPE\": \"Place\",\n",
    "    \"LOC\": \"Place\",\n",
    "    \"PRODUCT\": \"Work\",\n",
    "    \"EVENT\": \"Thing\",\n",
    "    \"WORK_OF_ART\": \"Agent\",\n",
    "    \"LAW\": \"Work\",\n",
    "    \"LANGUAGE\": \"Place\",\n",
    "    \"DATE\": \"Thing\",\n",
    "    \"TIME\": \"Thing\",\n",
    "    \"PERCENT\": \"Thing\",\n",
    "    \"MONEY\": \"Thing\",\n",
    "    \"QUANTITY\": \"Thing\",\n",
    "    \"ORDINAL\": \"Thing\",\n",
    "    \"CARDINAL\": \"Thing\"\n",
    "}\n",
    "\n",
    "# Thing, Agent, Place, Work, Person, Organisation, Event\n",
    "second_level_mapping = {\n",
    "    \"PERSON\": \"Person\",\n",
    "    \"NORP\": \"Agent\",\n",
    "    \"FAC\": \"Place\",\n",
    "    \"ORG\": \"Organisation\",\n",
    "    \"GPE\": \"Place\",\n",
    "    \"LOC\": \"Place\",\n",
    "    \"PRODUCT\": \"Work\",\n",
    "    \"EVENT\": \"Event\",\n",
    "    \"WORK_OF_ART\": \"Agent\",\n",
    "    \"LAW\": \"Work\",\n",
    "    \"LANGUAGE\": \"Place\",\n",
    "    \"DATE\": \"Thing\",\n",
    "    \"TIME\": \"Thing\",\n",
    "    \"PERCENT\": \"Thing\",\n",
    "    \"MONEY\": \"Thing\",\n",
    "    \"QUANTITY\": \"Thing\",\n",
    "    \"ORDINAL\": \"Thing\",\n",
    "    \"CARDINAL\": \"Thing\"\n",
    "}\n",
    "\n",
    "# Thing, Agent, Place, Work, Person, Organisation, Event, TimePeriod, TopicalConcept,\n",
    "second_level_mapping = {\n",
    "    \"PERSON\": \"Person\",\n",
    "    \"NORP\": \"Agent\",\n",
    "    \"FAC\": \"Place\",\n",
    "    \"ORG\": \"Organisation\",\n",
    "    \"GPE\": \"Place\",\n",
    "    \"LOC\": \"Place\",\n",
    "    \"PRODUCT\": \"Work\",\n",
    "    \"EVENT\": \"Event\",\n",
    "    \"WORK_OF_ART\": \"Agent\",\n",
    "    \"LAW\": \"Work\",\n",
    "    \"LANGUAGE\": \"Place\",\n",
    "    \"DATE\": \"TimePeriod\",\n",
    "    \"TIME\": \"TimePeriod\",\n",
    "    \"PERCENT\": \"Thing\",\n",
    "    \"MONEY\": \"Thing\",\n",
    "    \"QUANTITY\": \"Thing\",\n",
    "    \"ORDINAL\": \"TopicalConcept\",\n",
    "    \"CARDINAL\": \"TopicalConcept\"\n",
    "}"
   ]
  }
 ],
 "metadata": {
  "kernelspec": {
   "display_name": "Python 3 (ipykernel)",
   "language": "python",
   "name": "python3"
  },
  "language_info": {
   "codemirror_mode": {
    "name": "ipython",
    "version": 3
   },
   "file_extension": ".py",
   "mimetype": "text/x-python",
   "name": "python",
   "nbconvert_exporter": "python",
   "pygments_lexer": "ipython3",
   "version": "3.11.3"
  }
 },
 "nbformat": 4,
 "nbformat_minor": 4
}